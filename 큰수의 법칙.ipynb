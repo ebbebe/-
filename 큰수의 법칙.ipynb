{
 "cells": [
  {
   "cell_type": "markdown",
   "id": "98b17e42",
   "metadata": {},
   "source": [
    "### 2019 국가 교육기관 코딩 테스트"
   ]
  },
  {
   "cell_type": "markdown",
   "id": "784241a9",
   "metadata": {},
   "source": [
    "#### 이것이 코딩테스트다 92p 그리디 큰 수의 법칙"
   ]
  },
  {
   "cell_type": "code",
   "execution_count": 1,
   "id": "9827c103",
   "metadata": {},
   "outputs": [
    {
     "name": "stdout",
     "output_type": "stream",
     "text": [
      "5 8 3\n",
      "2 4 5 4 6\n",
      "6 5\n",
      "46\n"
     ]
    }
   ],
   "source": [
    "arr = list(map(int,input().split()))\n",
    "targetArr = list(map(int, input().split()))\n",
    "targetArr.sort(reverse=True)\n",
    "maxNum1 = targetArr[0]\n",
    "maxNum2 = targetArr[1]\n",
    "M = arr[1] \n",
    "K = arr[2] \n",
    "sum = 0\n",
    "sumCount = 0\n",
    "\n",
    "state = 0\n",
    "\n",
    "while True:\n",
    "  if sumCount != K:\n",
    "    sum += maxNum1\n",
    "  else:\n",
    "    sum += maxNum2\n",
    "    sumCount = 0\n",
    "  sumCount+= 1\n",
    "  M -= 1\n",
    "  if M == 0:\n",
    "    break\n",
    "print(sum)"
   ]
  }
 ],
 "metadata": {
  "kernelspec": {
   "display_name": "Python 3 (ipykernel)",
   "language": "python",
   "name": "python3"
  },
  "language_info": {
   "codemirror_mode": {
    "name": "ipython",
    "version": 3
   },
   "file_extension": ".py",
   "mimetype": "text/x-python",
   "name": "python",
   "nbconvert_exporter": "python",
   "pygments_lexer": "ipython3",
   "version": "3.9.7"
  }
 },
 "nbformat": 4,
 "nbformat_minor": 5
}
