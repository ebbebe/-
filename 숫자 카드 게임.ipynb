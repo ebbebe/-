{
 "cells": [
  {
   "cell_type": "markdown",
   "id": "83ed93ea",
   "metadata": {},
   "source": [
    "### 이것이 코딩 테스트다 96p\n",
    "\n",
    "#### 2019 국가 교육기관 코딩 테스트 "
   ]
  },
  {
   "cell_type": "code",
   "execution_count": 1,
   "id": "da04f21b",
   "metadata": {},
   "outputs": [
    {
     "name": "stdout",
     "output_type": "stream",
     "text": [
      "3 3\n",
      "3 1 2\n",
      "4 1 4\n",
      "2 2 2\n",
      "2\n"
     ]
    }
   ],
   "source": [
    "n, m = map(int, input().split())\n",
    "cardArray = [[n] * 11 for i in range(m)]\n",
    "maxArr = []\n",
    "\n",
    "for i in range(0, n):\n",
    "  cardArray[i] = list(map(int, input().split()))\n",
    "\n",
    "for i in range(0, n):\n",
    "  maxArr.append(min(cardArray[i]))\n",
    "\n",
    "print(max(maxArr))\n",
    "\n"
   ]
  }
 ],
 "metadata": {
  "kernelspec": {
   "display_name": "Python 3 (ipykernel)",
   "language": "python",
   "name": "python3"
  },
  "language_info": {
   "codemirror_mode": {
    "name": "ipython",
    "version": 3
   },
   "file_extension": ".py",
   "mimetype": "text/x-python",
   "name": "python",
   "nbconvert_exporter": "python",
   "pygments_lexer": "ipython3",
   "version": "3.8.12"
  }
 },
 "nbformat": 4,
 "nbformat_minor": 5
}
