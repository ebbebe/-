{
 "cells": [
  {
   "cell_type": "markdown",
   "id": "c9450499",
   "metadata": {},
   "source": [
    "### 이것이 코딩테스트다 110p"
   ]
  },
  {
   "cell_type": "code",
   "execution_count": 9,
   "id": "4967352f",
   "metadata": {},
   "outputs": [
    {
     "name": "stdout",
     "output_type": "stream",
     "text": [
      "5\n",
      "R R R U D D\n",
      "3   4\n"
     ]
    }
   ],
   "source": [
    "n = int(input())\n",
    "commands = input().split()\n",
    "r = 1\n",
    "l = 1\n",
    "array = [[0 for col in range(n)] for row in range(n)]\n",
    "for i in range(len(commands)):\n",
    "  command = commands.pop(0)\n",
    "\n",
    "  if command == 'L' and l != 1:\n",
    "    l -= 1\n",
    "  if command == 'R' and l != n:\n",
    "    l += 1\n",
    "  if command == 'U' and r != 1:\n",
    "    r -= 1\n",
    "  if command == 'D' and r != n:\n",
    "    r += 1\n",
    "\n",
    "print(r , \" \", l)"
   ]
  },
  {
   "cell_type": "markdown",
   "id": "2f37fd06",
   "metadata": {},
   "source": [
    "#### 예시 답안"
   ]
  },
  {
   "cell_type": "code",
   "execution_count": null,
   "id": "e9c32d42",
   "metadata": {},
   "outputs": [],
   "source": [
    "# N 입력받기\n",
    "n = int(input())\n",
    "x, y = 1, 1\n",
    "plans = input().split()\n",
    "\n",
    "# L, R, U, D에 따른 이동 방향\n",
    "dx = [0, 0, -1, 1]\n",
    "dy = [-1, 1, 0, 0]\n",
    "move_types = ['L','R','U','D']\n",
    "\n",
    "# 이동 게획을 하나씩 확인\n",
    "for plan in plans:\n",
    "    # 이동 후 좌표 구하기\n",
    "    for i in range(len(move_types)):\n",
    "        if plan == move_types[i]:\n",
    "            nx = x + dx[i]\n",
    "            ny = y + dy[i]\n",
    "    # 공간을 벗어나는 경우 무시\n",
    "    if nx < 1 or ny < 1 or nx > n or ny > n:\n",
    "        continue\n",
    "    # 이동 수행\n",
    "        x, y = nx, ny\n",
    "print(x,y)"
   ]
  }
 ],
 "metadata": {
  "kernelspec": {
   "display_name": "Python 3 (ipykernel)",
   "language": "python",
   "name": "python3"
  },
  "language_info": {
   "codemirror_mode": {
    "name": "ipython",
    "version": 3
   },
   "file_extension": ".py",
   "mimetype": "text/x-python",
   "name": "python",
   "nbconvert_exporter": "python",
   "pygments_lexer": "ipython3",
   "version": "3.9.7"
  }
 },
 "nbformat": 4,
 "nbformat_minor": 5
}
