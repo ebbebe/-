{
 "cells": [
  {
   "cell_type": "markdown",
   "id": "5ef7b32e",
   "metadata": {},
   "source": [
    "### 이것이 코딩 테스트다 99p\n",
    "#### 2018 E 기업 알고리즘 대회"
   ]
  },
  {
   "cell_type": "code",
   "execution_count": 2,
   "id": "57d392e9",
   "metadata": {},
   "outputs": [
    {
     "name": "stdout",
     "output_type": "stream",
     "text": [
      "25 5\n",
      "2\n"
     ]
    }
   ],
   "source": [
    "n, k = map(int, input().split())\n",
    "count = 0\n",
    "while True:\n",
    "  if n % k == 0:\n",
    "    n = n // k\n",
    "    count+=1\n",
    "  else:\n",
    "    n -= 1\n",
    "    count+=1\n",
    "  if n == 1:\n",
    "    break\n",
    "    \n",
    "print(count)\n",
    "  "
   ]
  },
  {
   "cell_type": "code",
   "execution_count": null,
   "id": "e77fc612",
   "metadata": {},
   "outputs": [],
   "source": []
  }
 ],
 "metadata": {
  "kernelspec": {
   "display_name": "Python 3 (ipykernel)",
   "language": "python",
   "name": "python3"
  },
  "language_info": {
   "codemirror_mode": {
    "name": "ipython",
    "version": 3
   },
   "file_extension": ".py",
   "mimetype": "text/x-python",
   "name": "python",
   "nbconvert_exporter": "python",
   "pygments_lexer": "ipython3",
   "version": "3.9.7"
  }
 },
 "nbformat": 4,
 "nbformat_minor": 5
}
